{
 "cells": [
  {
   "cell_type": "markdown",
   "metadata": {},
   "source": [
    "# 猜數字遊戲\n",
    "\n",
    "玩家在心裡想一個遊戲，電腦將會猜出你心中所想的數字。遊戲流程如下：\n",
    "\n",
    " 1. 請先在心中想一個四位數的數字，數字不能重複，例如 `4461` 是不可以的\n",
    " 2. 電腦會先給出一個猜測的數字，玩家根據此數字給予電腦回覆，例如 `1A2B`\n",
    "    * `A` 代表數字跟位置皆正確；`B` 代表數字正確但位置不正確\n",
    "    * 例如當心中想的是 `1234` 而電腦猜測 `4261` 時，應回覆 `1A2B`\n",
    " 3. 電腦會依據回覆是猜測下一個數字，直到遊戲結束\n",
    "\n",
    "你可以從無到有寫一個完整的猜數字遊戲，或是利用以下的工具，專注開發演算法的核心。\n",
    "\n",
    "## input(prompt)\n",
    "\n",
    "在螢幕上顯示 `promat` 等待玩家輸入，並回傳玩家輸入的資料。`promat` 與回傳資料皆為字串型態。"
   ]
  },
  {
   "cell_type": "code",
   "execution_count": null,
   "metadata": {},
   "outputs": [],
   "source": [
    "print(input('Type something:'))"
   ]
  },
  {
   "cell_type": "markdown",
   "metadata": {},
   "source": [
    "## prepared.compare(a, b)\n",
    "\n",
    "比較兩個數字的結果。數字(例如 `4261`)為字串型態，回傳結果(例如 `1A2B`)為字串型態。"
   ]
  },
  {
   "cell_type": "code",
   "execution_count": null,
   "metadata": {},
   "outputs": [],
   "source": [
    "import sys\n",
    "sys.path.append('.prepared')\n",
    "import bulls_and_cows as prepared\n",
    "\n",
    "a = '1234'\n",
    "b = '4261'\n",
    "print(prepared.compare(a, b)) # try different a and b"
   ]
  },
  {
   "cell_type": "markdown",
   "metadata": {},
   "source": [
    "## prepared.demo()\n",
    "\n",
    "完整的遊戲展示，目標就是開發出同樣功能的程式。詳見下方[動手做](#動手做)的程式碼範例。\n",
    "\n",
    "## prepared.generater_numbers()\n",
    "\n",
    "產生所有可能的數字，回傳結果為 `list` 型態。"
   ]
  },
  {
   "cell_type": "code",
   "execution_count": null,
   "metadata": {},
   "outputs": [],
   "source": [
    "import sys\n",
    "sys.path.append('.prepared')\n",
    "import bulls_and_cows as prepared\n",
    "\n",
    "print(prepared.generate_numbers()[:10])"
   ]
  },
  {
   "cell_type": "markdown",
   "metadata": {},
   "source": [
    "## prepared.pick_a_number(pool)\n",
    "\n",
    "隨機從 `pool` 中選出一個數字。`pool` 為 `list` 型態，回傳值(例如 `4261`)為字串型態。"
   ]
  },
  {
   "cell_type": "code",
   "execution_count": null,
   "metadata": {},
   "outputs": [],
   "source": [
    "import sys\n",
    "sys.path.append('.prepared')\n",
    "import bulls_and_cows as prepared\n",
    "\n",
    "print(prepared.pick_a_number(['1234', '4261'])) # try adding more numbers to the pool"
   ]
  },
  {
   "cell_type": "markdown",
   "metadata": {},
   "source": [
    "# 動手做\n",
    "\n",
    "測試完 `demo()` 之後，完成一樣功能的程式，並用其取代 `demo()`。"
   ]
  },
  {
   "cell_type": "code",
   "execution_count": null,
   "metadata": {},
   "outputs": [],
   "source": [
    "import sys\n",
    "sys.path.append('.prepared')\n",
    "import bulls_and_cows as prepared\n",
    "\n",
    "prepared.demo()\n",
    "# TODO: comment the above line and start coding below"
   ]
  }
 ],
 "metadata": {
  "kernelspec": {
   "display_name": "Python 3",
   "language": "python",
   "name": "python3"
  },
  "language_info": {
   "codemirror_mode": {
    "name": "ipython",
    "version": 3
   },
   "file_extension": ".py",
   "mimetype": "text/x-python",
   "name": "python",
   "nbconvert_exporter": "python",
   "pygments_lexer": "ipython3",
   "version": "3.5.2"
  }
 },
 "nbformat": 4,
 "nbformat_minor": 2
}
